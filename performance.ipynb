{
 "cells": [
  {
   "cell_type": "code",
   "execution_count": 9,
   "metadata": {},
   "outputs": [],
   "source": [
    "import time\n",
    "from functools import reduce\n",
    "\n",
    "length = 100\n",
    "\n",
    "def numbers():\n",
    "    for x in range(1, length + 1):\n",
    "        yield x"
   ]
  },
  {
   "cell_type": "code",
   "execution_count": 22,
   "metadata": {},
   "outputs": [
    {
     "name": "stdout",
     "output_type": "stream",
     "text": [
      "Sum: 0.00042748451232910156s\n",
      "Product: 0.0005626678466796875s\n"
     ]
    }
   ],
   "source": [
    "start_time = time.time()\n",
    "sum(numbers()) / length\n",
    "print(\"Sum: %ss\" % (time.time() - start_time))\n",
    "\n",
    "start_time = time.time()\n",
    "reduce(lambda x, y: x * y, numbers()) ** 1 / length\n",
    "print(\"Product: %ss\" % (time.time() - start_time))"
   ]
  }
 ],
 "metadata": {
  "kernelspec": {
   "display_name": "Python 3",
   "language": "python",
   "name": "python3"
  },
  "language_info": {
   "codemirror_mode": {
    "name": "ipython",
    "version": 3
   },
   "file_extension": ".py",
   "mimetype": "text/x-python",
   "name": "python",
   "nbconvert_exporter": "python",
   "pygments_lexer": "ipython3",
   "version": "3.10.13"
  }
 },
 "nbformat": 4,
 "nbformat_minor": 2
}
